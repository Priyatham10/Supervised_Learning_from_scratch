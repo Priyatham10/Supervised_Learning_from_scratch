{
 "cells": [
  {
   "cell_type": "code",
   "execution_count": 3,
   "metadata": {},
   "outputs": [],
   "source": [
    "import math\n",
    "from scipy.spatial import distance\n",
    "import numpy as np"
   ]
  },
  {
   "cell_type": "code",
   "execution_count": 4,
   "metadata": {},
   "outputs": [],
   "source": [
    "def probclearn(X, y):\n",
    "    \"\"\"Probability Classifier Learning\"\"\"\n",
    "    \n",
    "    # get the length and dimensions of the data\n",
    "    n, d = X.shape\n",
    "    # No. of positive samples\n",
    "    k_p = 0\n",
    "    # No. of negative samples\n",
    "    k_n = 0\n",
    "    # Mean vector of the positive class\n",
    "    mu_positive = np.array([0])\n",
    "    # Mean vector of the negative class\n",
    "    mu_negative = np.array([0])\n",
    "    \n",
    "    for t in range(n):\n",
    "        if y[t] == 1:\n",
    "            k_p = k_p + 1\n",
    "            mu_positive = mu_positive + X[t]\n",
    "        else:\n",
    "            k_n = k_n + 1\n",
    "            mu_negative = mu_negative + X[t]\n",
    "    \n",
    "    # Proportion of positive samples\n",
    "    q = k_p/n\n",
    "    \n",
    "    mu_positive = (1/k_p)*mu_positive\n",
    "    mu_negative = (1/k_n)*mu_negative\n",
    "    \n",
    "    # Variance of the positive class\n",
    "    sigma2_positive = 0\n",
    "    # Variance of the negative class\n",
    "    sigma2_negative = 0\n",
    "    \n",
    "    for t in range(n):\n",
    "        if y[t] == 1:\n",
    "            sigma2_positive = sigma2_positive + math.pow(distance.euclidean(X[t], mu_positive), 2)\n",
    "        else:\n",
    "            sigma2_negative = sigma2_negative + math.pow(distance.euclidean(X[t], mu_negative), 2)\n",
    "    sigma2_positive = (1/(d*k_p))*sigma2_positive\n",
    "    sigma2_negative = (1/(d*k_n))*sigma2_negative\n",
    "    \n",
    "    return q, mu_positive.reshape(-1,1), mu_negative.reshape(-1,1), sigma2_positive, sigma2_negative"
   ]
  },
  {
   "cell_type": "code",
   "execution_count": 6,
   "metadata": {},
   "outputs": [],
   "source": [
    "def probcpredict(q, mu_positive, mu_negative, sigma2_positive, sigma2_negative, z):\n",
    "    \"\"\"Probability Classifier Prediction\"\"\"\n",
    "    \n",
    "    # Declaring the prediction label\n",
    "    label = 0\n",
    "    \n",
    "    d = len(z)\n",
    "    x_1 = math.log(q/(1-q))\n",
    "    x_2 = (d/2)*(math.log(sigma2_positive/sigma2_negative))\n",
    "    x_3 = (1/(2*sigma2_positive))*(math.pow(np.linalg.norm(z-mu_positive.reshape(d, 1)), 2))\n",
    "    x_4 = (1/(2*sigma2_negative))*(math.pow(np.linalg.norm(z-mu_negative.reshape(d, 1)), 2))\n",
    "    if (x_1 - x_2 - x_3 + x_4) > 0:\n",
    "        label = 1.0\n",
    "    else:\n",
    "        label = -1.0\n",
    "    return label"
   ]
  },
  {
   "cell_type": "code",
   "execution_count": 23,
   "metadata": {},
   "outputs": [],
   "source": [
    "def nearestneighbor_classifier(X, y, z):\n",
    "    \"\"\"Nearest Neighbor Classifier\"\"\"\n",
    "    \n",
    "    # Index of the closest sample\n",
    "    c = 0\n",
    "    # Euclidean distance to the closest sample\n",
    "    b = norm(z-X[0].reshape(len(z),1))\n",
    "    \n",
    "    for t in range(len(X)):\n",
    "        if norm(z-X[t].reshape(len(z),1)) < b:\n",
    "            c = t\n",
    "            b = norm(z-X[t].reshape(len(z),1))\n",
    "    \n",
    "    label = y[c][0]\n",
    "    return label"
   ]
  },
  {
   "cell_type": "code",
   "execution_count": 9,
   "metadata": {},
   "outputs": [],
   "source": []
  },
  {
   "cell_type": "markdown",
   "metadata": {},
   "source": [
    "## Test Case 1: Testing with 2-D data"
   ]
  },
  {
   "cell_type": "code",
   "execution_count": 27,
   "metadata": {},
   "outputs": [
    {
     "name": "stdout",
     "output_type": "stream",
     "text": [
      "1.0\n",
      "1\n"
     ]
    }
   ],
   "source": [
    "X = np.array([[-3, 2],\n",
    "[-2, 1.5],\n",
    "[-1, 1],\n",
    "[0, 0.5],\n",
    "[1, 0]])\n",
    "y = np.array([[1], [1], [1], [-1], [-1]])\n",
    "\n",
    "q,mu_pos,mu_neg,sigma2_pos,sigma2_neg = probclearn(X,y)\n",
    "z = np.array([[-2], [2]])\n",
    "\n",
    "print(probcpredict(q,mu_pos,mu_neg,sigma2_pos,sigma2_neg,z))\n",
    "\n",
    "print(nearestneighbor_classifier(X, y, z))"
   ]
  },
  {
   "cell_type": "markdown",
   "metadata": {},
   "source": [
    "## Test Case 2: Testing with 3-D data"
   ]
  },
  {
   "cell_type": "code",
   "execution_count": 26,
   "metadata": {},
   "outputs": [
    {
     "name": "stdout",
     "output_type": "stream",
     "text": [
      "-1.0\n",
      "-1\n"
     ]
    }
   ],
   "source": [
    "X = np.array([[-2, 2, 0],\n",
    "[-3, -1.5, -2],\n",
    "[-1, 1, 4],\n",
    "[1, -0.5, 5],\n",
    "[2, 0, -2]])\n",
    "y = np.array([[1], [1], [-1], [-1], [-1]])\n",
    "\n",
    "q,mu_pos,mu_neg,sigma2_pos,sigma2_neg = probclearn(X,y)\n",
    "z = np.array([[-2], [2], [10]])\n",
    "\n",
    "print(probcpredict(q,mu_pos,mu_neg,sigma2_pos,sigma2_neg,z))\n",
    "\n",
    "print(nearestneighbor_classifier(X, y, z))"
   ]
  },
  {
   "cell_type": "markdown",
   "metadata": {},
   "source": [
    "## Test Case 3: Testing with 7-D data"
   ]
  },
  {
   "cell_type": "code",
   "execution_count": 29,
   "metadata": {},
   "outputs": [
    {
     "name": "stdout",
     "output_type": "stream",
     "text": [
      "1.0\n",
      "1\n"
     ]
    }
   ],
   "source": [
    "X = np.array([[-2, 2, 0, -2, 2, 0, 4],\n",
    "[-3, -1.5, -2, 6, 5, 1, 4],\n",
    "[-1, 1, 4, 0, 5, -4, 5],\n",
    "[1, -0.5, 5, -9, -9, 0, 0],\n",
    "[2, 0, -2, -4.5, 3, 3, 1]])\n",
    "y = np.array([[1], [1], [1], [-1], [-1]])\n",
    "\n",
    "q,mu_pos,mu_neg,sigma2_pos,sigma2_neg = probclearn(X,y)\n",
    "z = np.array([[-2], [2], [0], [1], [2], [0.5], [0]])\n",
    "\n",
    "print(probcpredict(q,mu_pos,mu_neg,sigma2_pos,sigma2_neg,z))\n",
    "\n",
    "print(nearestneighbor_classifier(X, y, z))"
   ]
  },
  {
   "cell_type": "code",
   "execution_count": null,
   "metadata": {},
   "outputs": [],
   "source": []
  }
 ],
 "metadata": {
  "kernelspec": {
   "display_name": "Python 3",
   "language": "python",
   "name": "python3"
  },
  "language_info": {
   "codemirror_mode": {
    "name": "ipython",
    "version": 3
   },
   "file_extension": ".py",
   "mimetype": "text/x-python",
   "name": "python",
   "nbconvert_exporter": "python",
   "pygments_lexer": "ipython3",
   "version": "3.6.8"
  }
 },
 "nbformat": 4,
 "nbformat_minor": 2
}
